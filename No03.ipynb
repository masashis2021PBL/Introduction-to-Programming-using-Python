{
 "cells": [
  {
   "cell_type": "markdown",
   "id": "f052ba61",
   "metadata": {},
   "source": [
    "# 例外処理と関数\n",
    "ここでは，本来考えていなかった挙動が起きかねない状況を回避するために用いる例外処理と，Arduinoで紹介した「関数」のPython版\"def\"について実践的に紹介します．"
   ]
  },
  {
   "cell_type": "code",
   "execution_count": 1,
   "id": "901febf6",
   "metadata": {},
   "outputs": [
    {
     "name": "stdout",
     "output_type": "stream",
     "text": [
      "a\n",
      "整数を入力してください\n"
     ]
    }
   ],
   "source": [
    "try:\n",
    "    a = int (input ())\n",
    "    print (\"入力した整数は\" + str (a) + \"です\")\n",
    "except ValueError:\n",
    "    print(\"整数を入力してください\")"
   ]
  },
  {
   "cell_type": "markdown",
   "id": "1c52545c",
   "metadata": {},
   "source": [
    "**try文except節**は，本来行いたい処理Aで**例外**が生じた場合，処理Bを実行する際に使用する．使用例を[1]に示す．[1]ではエラーが発生した場合「整数を入力してください」と表示するようにしている．ただしexept節にエラー定義(ここではValueErrorとして数値以外をエラーと指定している)を行わない場合，全てのエラーが含まれ予想外の結果となる本末転倒な挙動を示しかねない．そこで，基本的な使用方法は[1]のようにピンポイントでエラー定義をする．同様にしばしば使われるエラー定義としては，\"ZeroDivisionError\"や\"TypeError\"がある．"
   ]
  },
  {
   "cell_type": "markdown",
   "id": "6e0c2a2e",
   "metadata": {},
   "source": [
    "関数 - def文"
   ]
  },
  {
   "cell_type": "code",
   "execution_count": 2,
   "id": "47c14344",
   "metadata": {},
   "outputs": [
    {
     "name": "stdout",
     "output_type": "stream",
     "text": [
      "1つ目の整数\n",
      "1\n",
      "2つ目の整数\n",
      "2\n",
      "和は3です\n",
      "差は-1です\n",
      "積は2です\n",
      "商は0.5です\n"
     ]
    }
   ],
   "source": [
    "def calculation (x, y):\n",
    "    sum = x + y\n",
    "    difference = x - y\n",
    "    product = x * y\n",
    "    quotient = x / y\n",
    "    print (\"和は\" + str (sum) + \"です\")\n",
    "    print (\"差は\" + str (difference) + \"です\")\n",
    "    print (\"積は\" + str (product) + \"です\")\n",
    "    print (\"商は\" + str (quotient) + \"です\")\n",
    "\n",
    "### main () ###\n",
    "while True:\n",
    "    try:\n",
    "        print (\"1つ目の整数\")\n",
    "        a = int (input ())\n",
    "        print (\"2つ目の整数\")\n",
    "        b = int (input ())\n",
    "        break\n",
    "    except ValueError:\n",
    "        print (\"整数を入力してください\")\n",
    "\n",
    "calculation(a, b)"
   ]
  },
  {
   "cell_type": "markdown",
   "id": "e646b206",
   "metadata": {},
   "source": [
    "def文は，Arduinoで言う\"void loop ()\"や\"void setup ()\"のような**関数**を定義することができる．使用する引数を渡すことで，def文内の処理を実行する．使用例として[2]では四則計算を行っている．今回**引数**としてaとbを渡しており，def内では，\"a\"→\"x\"，\"b\"→\"y\"として読み替え定義されている．引数がない場合，()内は空白で良い．\n",
    "また[2]では「四則計算を行い，結果を表示する」という関数となっているが，「四則計算を行う」という関数の場合は計算結果を\"return\"で**戻り値**というものを定義することで**呼び出し先で関数での処理結果を利用することが可能**となる．例を[3]に示す．"
   ]
  },
  {
   "cell_type": "code",
   "execution_count": 3,
   "id": "5351e9e2",
   "metadata": {},
   "outputs": [
    {
     "name": "stdout",
     "output_type": "stream",
     "text": [
      "1つ目の整数\n",
      "1\n",
      "2つ目の整数\n",
      "2\n",
      "3\n",
      "-1\n",
      "2\n",
      "0.5\n"
     ]
    }
   ],
   "source": [
    "def calculation (x, y):\n",
    "    sum = x + y\n",
    "    difference = x - y\n",
    "    product = x * y\n",
    "    quotient = x / y\n",
    "    return sum, difference, product, quotient\n",
    "\n",
    "### main () ###\n",
    "while True:\n",
    "    try:\n",
    "        print (\"1つ目の整数\")\n",
    "        a = int (input ())\n",
    "        print (\"2つ目の整数\")\n",
    "        b = int (input ())\n",
    "        break\n",
    "    except ValueError:\n",
    "        print (\"整数を入力してください\")\n",
    "\n",
    "sum = calculation (a, b)[0]\n",
    "difference = calculation (a, b)[1]\n",
    "product = calculation (a, b)[2]\n",
    "quotient = calculation (a, b)[3]\n",
    "\n",
    "print (sum)\n",
    "print (difference)\n",
    "print (product)\n",
    "print (quotient)"
   ]
  },
  {
   "cell_type": "markdown",
   "id": "91a2ab35",
   "metadata": {},
   "source": [
    "## ライブラリを組み合わせた関数の利用\n",
    "defを使うことで，思い通りの機能を持った関数を自由に開発することが可能となりますが，Pythonが持っている**ライブラリ**や**標準関数**を使うことによって，より便利に，より簡単に関数を開発できます．ここでは，事例として2つ紹介します．"
   ]
  },
  {
   "cell_type": "code",
   "execution_count": 4,
   "id": "cf1590d3",
   "metadata": {},
   "outputs": [
    {
     "name": "stdout",
     "output_type": "stream",
     "text": [
      "12.566370614359172\n"
     ]
    }
   ],
   "source": [
    "import numpy as np\n",
    "\n",
    "def area_circle (r):\n",
    "    ans = np.pi * r ** 2\n",
    "    return ans\n",
    "print (area_circle (2))"
   ]
  },
  {
   "cell_type": "markdown",
   "id": "b1c2ad45",
   "metadata": {},
   "source": [
    "[4]は，ライブラリNumPyを使い，円の面積を求める関数を作成した例になります．\n",
    "\"\"\"\n",
    "import numpy as np\n",
    "\"\"\"\n",
    "とすることで，npという単語でNumPyを略して呼ぶことができます．ちなみにこのNumPy，数値計算に特化したライブラリで，今後皆さんが取り組む機械学習でも大いに利用することとなります．\n",
    "\"\"\"\n",
    "ans = np.pi * r ** 2\n",
    "\"\"\"\n",
    "のうち，\"np.pi\"は円周率を示しており，\"r ** 2\"は「*r*の2乗」を意味しています．"
   ]
  },
  {
   "cell_type": "code",
   "execution_count": 5,
   "id": "8a912414",
   "metadata": {},
   "outputs": [
    {
     "name": "stdout",
     "output_type": "stream",
     "text": [
      "12\n"
     ]
    }
   ],
   "source": [
    "from math import gcd\n",
    "\n",
    "print(gcd(24, 36))"
   ]
  },
  {
   "cell_type": "markdown",
   "id": "89e3adf0",
   "metadata": {},
   "source": [
    "[5]では，from math import gcdとしており，[4]とはスタイルが異なることに気が付くでしょう．これは，[4]では\"import 何某\"とすることで，何某というモジュールをすべて呼び出して利用することを意味しています．一方[5]での\"from A import B\"の場合，Aに属するBだけを呼び出して利用するということになります．なぜこのようなアプローチが用意されているのかは，諸君の調査課題とします．"
   ]
  }
 ],
 "metadata": {
  "kernelspec": {
   "display_name": "Python 3",
   "language": "python",
   "name": "python3"
  },
  "language_info": {
   "codemirror_mode": {
    "name": "ipython",
    "version": 3
   },
   "file_extension": ".py",
   "mimetype": "text/x-python",
   "name": "python",
   "nbconvert_exporter": "python",
   "pygments_lexer": "ipython3",
   "version": "3.8.8"
  }
 },
 "nbformat": 4,
 "nbformat_minor": 5
}
