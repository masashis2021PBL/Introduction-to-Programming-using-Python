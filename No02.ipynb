{
 "cells": [
  {
   "cell_type": "markdown",
   "id": "f052ba61",
   "metadata": {},
   "source": [
    "# 条件分岐と繰り返し\n",
    "ここでは，条件分岐で用いるifと繰り返しで用いるwhile，forについて実践的に紹介します．"
   ]
  },
  {
   "cell_type": "code",
   "execution_count": 3,
   "id": "901febf6",
   "metadata": {},
   "outputs": [
    {
     "name": "stdout",
     "output_type": "stream",
     "text": [
      "整数を入力してください\n",
      "4\n",
      "余りは 1\n"
     ]
    }
   ],
   "source": [
    "print (\"整数を入力してください\")\n",
    "a = int (input ())\n",
    "b = a % int (3)\n",
    "if b == 0:\n",
    "    print (\"余りは 0\")\n",
    "elif b == 1:\n",
    "    print (\"余りは 1\")\n",
    "else:\n",
    "    print (\"余りは 2\")"
   ]
  },
  {
   "cell_type": "markdown",
   "id": "1c52545c",
   "metadata": {},
   "source": [
    "if文は，**条件分岐**の処理で扱う構文である．ifの後に条件式:を記入することで条件に一致した場合の処理が行われる．また，elifやelseを使用することで，複数の条件分岐が可能である．使用例として[3]は入力した整数を3で割った時の余りを表示している．"
   ]
  },
  {
   "cell_type": "markdown",
   "id": "6e0c2a2e",
   "metadata": {},
   "source": [
    "数値の取り扱い"
   ]
  },
  {
   "cell_type": "code",
   "execution_count": 4,
   "id": "47c14344",
   "metadata": {},
   "outputs": [
    {
     "name": "stdout",
     "output_type": "stream",
     "text": [
      "0\n",
      "1\n",
      "2\n",
      "3\n",
      "4\n",
      "5\n",
      "6\n",
      "7\n",
      "8\n",
      "9\n"
     ]
    }
   ],
   "source": [
    "i = 0\n",
    "while i < 10:\n",
    "    print(i)\n",
    "    i = i + 1 #iの数値を1増加"
   ]
  },
  {
   "cell_type": "markdown",
   "id": "e646b206",
   "metadata": {},
   "source": [
    "while文は，*繰り返し処理*を行う際に用いる構文である．while文では条件を指定することで*条件がTrueの間はループ処理を続け，Faleになるとループを抜ける*．使用例を[4]に示す．[4]ではiの値が10未満でprint(i)を行い，iが10になるとループ処理を抜けてプログラムが終了する．*ループ処理の途中でループを抜ける他の方法としてbreak文がある*．使用例として[5]を示す．iが3になるとbreak文によりループ処理を抜ける．他の使用方法として無限ループで処理を行うことができる．使用例を[6]に示す．[6]では*停止ボタンまたはCtrl+Cを押さない限りprint(i)が表示される*(実際にはシステムに不具合が生じかねないため，iが10になった時点でループ処理を終了している)．"
   ]
  },
  {
   "cell_type": "code",
   "execution_count": 5,
   "id": "5351e9e2",
   "metadata": {},
   "outputs": [
    {
     "name": "stdout",
     "output_type": "stream",
     "text": [
      "0\n",
      "1\n",
      "2\n"
     ]
    }
   ],
   "source": [
    "i = 0\n",
    "while i < 10:\n",
    "    if i == 3:\n",
    "        break\n",
    "    print(i)\n",
    "    i = i + 1 #iの数値を1増加"
   ]
  },
  {
   "cell_type": "code",
   "execution_count": 6,
   "id": "ce363bd0",
   "metadata": {},
   "outputs": [
    {
     "name": "stdout",
     "output_type": "stream",
     "text": [
      "0\n",
      "1\n",
      "2\n",
      "3\n",
      "4\n",
      "5\n",
      "6\n",
      "7\n",
      "8\n",
      "9\n"
     ]
    }
   ],
   "source": [
    "i = 0\n",
    "while True:\n",
    "    print(i)\n",
    "    i = i + 1 #iの数値を1増加\n",
    "    if i == 10: break"
   ]
  },
  {
   "cell_type": "code",
   "execution_count": 7,
   "id": "cf1590d3",
   "metadata": {},
   "outputs": [
    {
     "name": "stdout",
     "output_type": "stream",
     "text": [
      "dog\n",
      "cat\n",
      "bird\n",
      "sheep\n"
     ]
    }
   ],
   "source": [
    "words_list = [\"dog\",\"cat\",\"bird\",\"sheep\"]\n",
    "for w in words_list:\n",
    "    print (w)"
   ]
  },
  {
   "cell_type": "markdown",
   "id": "b1c2ad45",
   "metadata": {},
   "source": [
    "for文は，集合要素を一つずつ取り出して変数に代入し処理を行う．使用例として[7]を示す．[7]ではwords_list内の文字列を順番に表示している．"
   ]
  },
  {
   "cell_type": "code",
   "execution_count": 8,
   "id": "8a912414",
   "metadata": {},
   "outputs": [
    {
     "name": "stdout",
     "output_type": "stream",
     "text": [
      "0\n",
      "1\n",
      "2\n",
      "3\n",
      "4\n"
     ]
    }
   ],
   "source": [
    "for num in range(5):\n",
    "    print(num)"
   ]
  },
  {
   "cell_type": "markdown",
   "id": "89e3adf0",
   "metadata": {},
   "source": [
    "繰り返しや条件分岐は，当然ながら数値以外の情報も取り扱える．[8]では，range()関数を用い，その要素をすべてprintしている．ここでrange関数は引数に指定した開始数から終了数までの連続した数値を要素として持つrange型のオブジェクトを作成する．"
   ]
  }
 ],
 "metadata": {
  "kernelspec": {
   "display_name": "Python 3",
   "language": "python",
   "name": "python3"
  }
 },
 "nbformat": 4,
 "nbformat_minor": 5
}
