{
 "cells": [
  {
   "cell_type": "markdown",
   "id": "f052ba61",
   "metadata": {},
   "source": [
    "# クラスとその他\n",
    "Pythonでは，クラスを使うことによって関数以上に高度かつ自由なプログラムを開発することができるようになります．\n",
    "ここでは，クラスの定義と，クラスから「生成される」インスタンスについて紹介するとともに，リストの取り扱いなど，知って損のないTipsを実践的に紹介します．"
   ]
  },
  {
   "cell_type": "markdown",
   "id": "a609833a",
   "metadata": {},
   "source": [
    "## クラスの定義"
   ]
  },
  {
   "cell_type": "code",
   "execution_count": 2,
   "id": "901febf6",
   "metadata": {},
   "outputs": [],
   "source": [
    "class Greet ():\n",
    "    def __init__ (self, greet):\n",
    "        self.value = greet"
   ]
  },
  {
   "cell_type": "markdown",
   "id": "1c52545c",
   "metadata": {},
   "source": [
    "## インスタンスの生成"
   ]
  },
  {
   "cell_type": "code",
   "execution_count": 3,
   "id": "47c14344",
   "metadata": {},
   "outputs": [],
   "source": [
    "morning = Greet (\"Good morning!\")\n",
    "evening = Greet (\"Good evening!\")"
   ]
  },
  {
   "cell_type": "markdown",
   "id": "e646b206",
   "metadata": {},
   "source": [
    "## メソッドの呼び出し"
   ]
  },
  {
   "cell_type": "code",
   "execution_count": 4,
   "id": "5351e9e2",
   "metadata": {},
   "outputs": [
    {
     "name": "stdout",
     "output_type": "stream",
     "text": [
      "Good morning!\n",
      "Good evening!\n"
     ]
    }
   ],
   "source": [
    "print (morning.value)\n",
    "print (evening.value)"
   ]
  },
  {
   "cell_type": "markdown",
   "id": "91a2ab35",
   "metadata": {},
   "source": [
    "## 続 メソッドの呼び出し"
   ]
  },
  {
   "cell_type": "code",
   "execution_count": 6,
   "id": "cf1590d3",
   "metadata": {},
   "outputs": [
    {
     "name": "stdout",
     "output_type": "stream",
     "text": [
      "Name:John Doe, Age:20\n"
     ]
    }
   ],
   "source": [
    "class Person ():\n",
    "    def __init__ (self, name, age):\n",
    "        self.name = name\n",
    "        self.age = age\n",
    " \n",
    "    def __str__ (self):\n",
    "        return \"Name:\" + self.name + \", Age:\" + str (self.age)\n",
    "\n",
    "### main () ###\n",
    "who = Person(\"John Doe\", 20)\n",
    "print (who)"
   ]
  },
  {
   "cell_type": "markdown",
   "id": "b1c2ad45",
   "metadata": {},
   "source": [
    "## list型のリスト(配列)への要素の追加"
   ]
  },
  {
   "cell_type": "markdown",
   "id": "edff0c74",
   "metadata": {},
   "source": [
    "appendメソッド"
   ]
  },
  {
   "cell_type": "code",
   "execution_count": 7,
   "id": "8a912414",
   "metadata": {},
   "outputs": [
    {
     "name": "stdout",
     "output_type": "stream",
     "text": [
      "[1, 2, 3, 4]\n"
     ]
    }
   ],
   "source": [
    "list_1 = [1, 2 ,3]\n",
    "list_1.append (4)\n",
    "print (list_1)"
   ]
  },
  {
   "cell_type": "markdown",
   "id": "89e3adf0",
   "metadata": {},
   "source": [
    "insertメソッド"
   ]
  },
  {
   "cell_type": "code",
   "execution_count": 8,
   "id": "68895199",
   "metadata": {},
   "outputs": [
    {
     "name": "stdout",
     "output_type": "stream",
     "text": [
      "[1, 2, 100, 3, 4, 5]\n"
     ]
    }
   ],
   "source": [
    "list_2 = [1, 2, 3, 4, 5]\n",
    "list_2.insert(2, 100)\n",
    "print(list_2)"
   ]
  },
  {
   "cell_type": "markdown",
   "id": "21187875",
   "metadata": {},
   "source": [
    "len()関数"
   ]
  },
  {
   "cell_type": "code",
   "execution_count": 9,
   "id": "848aa8ce",
   "metadata": {},
   "outputs": [
    {
     "name": "stdout",
     "output_type": "stream",
     "text": [
      "7\n"
     ]
    }
   ],
   "source": [
    "list_3 = [1, 2, 3, 4, 5, 6, 7]\n",
    "print (len (list_3))"
   ]
  },
  {
   "cell_type": "markdown",
   "id": "d710b0e0",
   "metadata": {},
   "source": [
    "辞書型"
   ]
  },
  {
   "cell_type": "code",
   "execution_count": 10,
   "id": "bb11c737",
   "metadata": {},
   "outputs": [
    {
     "name": "stdout",
     "output_type": "stream",
     "text": [
      "{'A': 1, 'B': 2}\n",
      "{'key': 'value'}\n"
     ]
    }
   ],
   "source": [
    "dic1 = {\"A\" : 1, \"B\" : 2}\n",
    "dic2 = {}\n",
    "dic2 [\"key\"] = \"value\"\n",
    "\n",
    "print (dic1)\n",
    "print (dic2)"
   ]
  },
  {
   "cell_type": "markdown",
   "id": "63b1068e",
   "metadata": {},
   "source": [
    "\"value\"に配列を格納するパターン"
   ]
  },
  {
   "cell_type": "code",
   "execution_count": 11,
   "id": "830a327f",
   "metadata": {},
   "outputs": [
    {
     "name": "stdout",
     "output_type": "stream",
     "text": [
      "{'key': ['value1', 'value2']}\n"
     ]
    }
   ],
   "source": [
    "dic = {}\n",
    "dic [\"key\"] = [\"value1\", \"value2\"]\n",
    "print (dic)"
   ]
  },
  {
   "cell_type": "markdown",
   "id": "d1c3162f",
   "metadata": {},
   "source": [
    "keyを利用したvalueの取り出し方法"
   ]
  },
  {
   "cell_type": "code",
   "execution_count": 12,
   "id": "3b60dea1",
   "metadata": {},
   "outputs": [
    {
     "name": "stdout",
     "output_type": "stream",
     "text": [
      "dog\n"
     ]
    }
   ],
   "source": [
    "dic = {\"A\": \"cat\", \"B\": \"dog\"}\n",
    "print (dic [\"B\"])"
   ]
  },
  {
   "cell_type": "markdown",
   "id": "a9b6e302",
   "metadata": {},
   "source": [
    "keyを利用したvalueの変更"
   ]
  },
  {
   "cell_type": "code",
   "execution_count": 13,
   "id": "3aaf2f72",
   "metadata": {},
   "outputs": [
    {
     "name": "stdout",
     "output_type": "stream",
     "text": [
      "{'X': 'dog'}\n"
     ]
    }
   ],
   "source": [
    "dic = {\"X\" : \"cat\"}\n",
    "dic [\"X\"] = \"dog\"\n",
    "print (dic)"
   ]
  },
  {
   "cell_type": "code",
   "execution_count": null,
   "id": "3cec1dda",
   "metadata": {},
   "outputs": [],
   "source": []
  }
 ],
 "metadata": {
  "kernelspec": {
   "display_name": "Python 3",
   "language": "python",
   "name": "python3"
  },
  "language_info": {
   "codemirror_mode": {
    "name": "ipython",
    "version": 3
   },
   "file_extension": ".py",
   "mimetype": "text/x-python",
   "name": "python",
   "nbconvert_exporter": "python",
   "pygments_lexer": "ipython3",
   "version": "3.8.8"
  }
 },
 "nbformat": 4,
 "nbformat_minor": 5
}
