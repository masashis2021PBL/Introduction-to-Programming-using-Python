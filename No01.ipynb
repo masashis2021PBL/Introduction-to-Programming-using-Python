{
 "cells": [
  {
   "cell_type": "markdown",
   "id": "f052ba61",
   "metadata": {},
   "source": [
    "# 変数の宣言 - 文字列と数値\n",
    "ここでは，変数の宣言と文字列，数値の取り扱いについて実践的に紹介します．"
   ]
  },
  {
   "cell_type": "code",
   "execution_count": 4,
   "id": "901febf6",
   "metadata": {},
   "outputs": [
    {
     "name": "stdout",
     "output_type": "stream",
     "text": [
      "engineering\n",
      "Hi, python!\n",
      "100\n"
     ]
    }
   ],
   "source": [
    "a = \"engineering\"\n",
    "b = \"Hi, python!\"\n",
    "c = 100\n",
    "print (a)\n",
    "print (b)\n",
    "print (c)"
   ]
  },
  {
   "cell_type": "markdown",
   "id": "1c52545c",
   "metadata": {},
   "source": [
    "変数a，bには「文字列」が代入されている．文字列は*半角*ダブルクォーテーション「\"」または*半角*シングルクォーテーション「'」で囲まれた文字の繋がりであり，*文字を囲まない場合エラーが生じる*．また文字列は間に「＋」を入力することで，*文字同士を結合することができる*．"
   ]
  },
  {
   "cell_type": "markdown",
   "id": "6e0c2a2e",
   "metadata": {},
   "source": [
    "数値の取り扱い"
   ]
  },
  {
   "cell_type": "code",
   "execution_count": 6,
   "id": "47c14344",
   "metadata": {},
   "outputs": [
    {
     "name": "stdout",
     "output_type": "stream",
     "text": [
      "4\n",
      "-2\n",
      "3\n",
      "0.3333333333333333\n",
      "1\n"
     ]
    }
   ],
   "source": [
    "print(int(1) + int(3))\n",
    "print(int(1) - int(3))\n",
    "print(int(1) * int(3))\n",
    "print(int(1) / int(3))\n",
    "print(int(1) % int(3))"
   ]
  },
  {
   "cell_type": "markdown",
   "id": "e646b206",
   "metadata": {},
   "source": [
    "数値は，四則計算など数学的な文字として使用する場合に使用される．例として[6]を実行してみよう．この場合，文字列のように「\"」「'」で囲む必要はない．また「int ()」は後述する「データ型」を示している．"
   ]
  },
  {
   "cell_type": "markdown",
   "id": "41632819",
   "metadata": {},
   "source": [
    "# データ型"
   ]
  },
  {
   "cell_type": "code",
   "execution_count": 7,
   "id": "cf1590d3",
   "metadata": {},
   "outputs": [
    {
     "name": "stdout",
     "output_type": "stream",
     "text": [
      "<class 'int'>\n",
      "<class 'str'>\n",
      "python実習8\n"
     ]
    }
   ],
   "source": [
    "x = 8\n",
    "y = \"python実習\"\n",
    "z = y + str(x)\n",
    "\n",
    "print(type(x))\n",
    "print(type(y))\n",
    "print(z)"
   ]
  },
  {
   "cell_type": "markdown",
   "id": "b1c2ad45",
   "metadata": {},
   "source": [
    "データ型とは，文字列や数値の形式を示したものである．文字列を示す「str」や整数を示す「int」などがある．例として[7]を実行してみよう．また型が違う文字を結合する場合は型を同一にする必要があり，例ではint型をstr型に変更して結合している事に注意してほしい．"
   ]
  }
 ],
 "metadata": {
  "kernelspec": {
   "display_name": "Python 3",
   "language": "python",
   "name": "python3"
  },
  "language_info": {
   "codemirror_mode": {
    "name": "ipython",
    "version": 3
   },
   "file_extension": ".py",
   "mimetype": "text/x-python",
   "name": "python",
   "nbconvert_exporter": "python",
   "pygments_lexer": "ipython3",
   "version": "3.8.8"
  }
 },
 "nbformat": 4,
 "nbformat_minor": 5
}
